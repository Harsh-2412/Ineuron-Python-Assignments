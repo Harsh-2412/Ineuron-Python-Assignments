{
 "cells": [
  {
   "cell_type": "markdown",
   "id": "5ebc9773-1e71-469e-9d67-c214d011624c",
   "metadata": {},
   "source": [
    "## 1. Write a Python program to check if the given number is a Disarium Number"
   ]
  },
  {
   "cell_type": "code",
   "execution_count": 7,
   "id": "6a439a42-b2c1-4000-85cf-3cf32eeb6f45",
   "metadata": {},
   "outputs": [
    {
     "name": "stdin",
     "output_type": "stream",
     "text": [
      "Enter a number:  135\n"
     ]
    },
    {
     "name": "stdout",
     "output_type": "stream",
     "text": [
      "135 is a Disarium Number\n"
     ]
    }
   ],
   "source": [
    "def isDisarium(num):\n",
    "    # Converting the number to a string\n",
    "    num_str = str(num)\n",
    "    \n",
    "    # Finding the length of the number\n",
    "    n = len(num_str)\n",
    "    \n",
    "    # Initializing the sum\n",
    "    sum = 0\n",
    "    \n",
    "    # Calculating the sum of digits raised to their respective positions\n",
    "    for i in range(n):\n",
    "        sum += int(num_str[i])**(i+1)\n",
    "    \n",
    "    # Checking if the sum is equal to the number itself\n",
    "    if sum == num:\n",
    "        return True\n",
    "    else:\n",
    "        return False\n",
    "\n",
    "\n",
    "# Taking input from the user\n",
    "num = int(input(\"Enter a number: \"))\n",
    "\n",
    "# Checking if the number is a Disarium Number\n",
    "if isDisarium(num):\n",
    "    print(num, \"is a Disarium Number\")\n",
    "else:\n",
    "    print(num, \"is not a Disarium Number\")"
   ]
  },
  {
   "cell_type": "markdown",
   "id": "65a216db-458b-4d30-a312-0d1e15aa2c5c",
   "metadata": {},
   "source": [
    "## 2. Write a Python program to print all disarium numbers between 1 to 100"
   ]
  },
  {
   "cell_type": "code",
   "execution_count": 8,
   "id": "02c23cfc-067a-4c2a-9f6c-4a363f176db3",
   "metadata": {},
   "outputs": [
    {
     "name": "stdout",
     "output_type": "stream",
     "text": [
      "1 2 3 4 5 6 7 8 9 89 "
     ]
    }
   ],
   "source": [
    "def isDisarium(num):\n",
    "    # Converting the number to a string\n",
    "    num_str = str(num)\n",
    "    \n",
    "    # Finding the length of the number\n",
    "    n = len(num_str)\n",
    "    \n",
    "    # Initializing the sum\n",
    "    sum = 0\n",
    "    \n",
    "    # Calculating the sum of digits raised to their respective positions\n",
    "    for i in range(n):\n",
    "        sum += int(num_str[i])**(i+1)\n",
    "    \n",
    "    # Checking if the sum is equal to the number itself\n",
    "    if sum == num:\n",
    "        return True\n",
    "    else:\n",
    "        return False\n",
    "\n",
    "# Finding and printing all Disarium numbers between 1 to 100\n",
    "for i in range(1, 101):\n",
    "    if isDisarium(i):\n",
    "        print(i, end=\" \")"
   ]
  },
  {
   "cell_type": "markdown",
   "id": "3034617c-c33c-46cb-bae1-8ff204f38511",
   "metadata": {},
   "source": [
    "## 3. Write a Python program to check if the given number is Happy Number"
   ]
  },
  {
   "cell_type": "code",
   "execution_count": 10,
   "id": "38c41fab-8525-4273-826a-481b0a931654",
   "metadata": {},
   "outputs": [
    {
     "name": "stdin",
     "output_type": "stream",
     "text": [
      "Enter a number:  12\n"
     ]
    },
    {
     "name": "stdout",
     "output_type": "stream",
     "text": [
      "12 is not a happy number\n"
     ]
    }
   ],
   "source": [
    "def isHappyNumber(num):\n",
    "    # Initialize a set to keep track of sums\n",
    "    sumSet = set()\n",
    "    \n",
    "    while True:\n",
    "        # Compute the sum of squares of digits\n",
    "        sum = 0\n",
    "        while num > 0:\n",
    "            digit = num % 10\n",
    "            sum += digit**2\n",
    "            num //= 10\n",
    "        \n",
    "        # If sum is 1, the number is a happy number\n",
    "        if sum == 1:\n",
    "            return True\n",
    "        \n",
    "        # If the sum is already in the set, the number is not a happy number\n",
    "        if sum in sumSet:\n",
    "            return False\n",
    "        \n",
    "        # Add the sum to the set and continue the loop\n",
    "        sumSet.add(sum)\n",
    "        num = sum\n",
    "\n",
    "# Get input from user\n",
    "num = int(input(\"Enter a number: \"))\n",
    "\n",
    "# Check if the number is a happy number\n",
    "if isHappyNumber(num):\n",
    "    print(num, \"is a happy number\")\n",
    "else:\n",
    "    print(num, \"is not a happy number\")\n"
   ]
  },
  {
   "cell_type": "markdown",
   "id": "3dbe073f-f207-4800-b142-0df42ac97cfb",
   "metadata": {},
   "source": [
    "## 4. Write a Python program to print all happy numbers between 1 and 100"
   ]
  },
  {
   "cell_type": "code",
   "execution_count": 11,
   "id": "c4163c77-24e0-48a3-821a-f08cd2cb0416",
   "metadata": {},
   "outputs": [
    {
     "name": "stdout",
     "output_type": "stream",
     "text": [
      "1 7 10 13 19 23 28 31 32 44 49 68 70 79 82 86 91 94 97 100 "
     ]
    }
   ],
   "source": [
    "def isHappyNumber(num):\n",
    "    # Initialize a set to keep track of sums\n",
    "    sumSet = set()\n",
    "    \n",
    "    while True:\n",
    "        # Compute the sum of squares of digits\n",
    "        sum = 0\n",
    "        while num > 0:\n",
    "            digit = num % 10\n",
    "            sum += digit**2\n",
    "            num //= 10\n",
    "        \n",
    "        # If sum is 1, the number is a happy number\n",
    "        if sum == 1:\n",
    "            return True\n",
    "        \n",
    "        # If the sum is already in the set, the number is not a happy number\n",
    "        if sum in sumSet:\n",
    "            return False\n",
    "        \n",
    "        # Add the sum to the set and continue the loop\n",
    "        sumSet.add(sum)\n",
    "        num = sum\n",
    "\n",
    "# Print all happy numbers between 1 and 100\n",
    "for num in range(1, 101):\n",
    "    if isHappyNumber(num):\n",
    "        print(num, end=\" \")"
   ]
  },
  {
   "cell_type": "markdown",
   "id": "c4da64cd-50bb-41a3-bcdc-12c15e998946",
   "metadata": {},
   "source": [
    "## 5. Write a Python program to determine whether the given number is a Harshad Number"
   ]
  },
  {
   "cell_type": "code",
   "execution_count": 12,
   "id": "afb933de-73d5-409c-9f89-ed7cfaeb0e38",
   "metadata": {},
   "outputs": [
    {
     "name": "stdin",
     "output_type": "stream",
     "text": [
      "Enter a number:  256\n"
     ]
    },
    {
     "name": "stdout",
     "output_type": "stream",
     "text": [
      "256 is not a Harshad number\n"
     ]
    }
   ],
   "source": [
    "def isHarshadNumber(num):\n",
    "    # Compute the sum of digits\n",
    "    sum = 0\n",
    "    for digit in str(num):\n",
    "        sum += int(digit)\n",
    "    \n",
    "    # Check if the number is divisible by the sum of its digits\n",
    "    if num % sum == 0:\n",
    "        return True\n",
    "    else:\n",
    "        return False\n",
    "\n",
    "# Get input from user\n",
    "num = int(input(\"Enter a number: \"))\n",
    "\n",
    "# Check if the number is a Harshad number\n",
    "if isHarshadNumber(num):\n",
    "    print(num, \"is a Harshad number\")\n",
    "else:\n",
    "    print(num, \"is not a Harshad number\")\n"
   ]
  },
  {
   "cell_type": "markdown",
   "id": "66065c2a-8427-4fcd-95e7-87f073a195c7",
   "metadata": {},
   "source": [
    "## 6. Write a Python program to print all pronic numbers between 1 and 100?\n"
   ]
  },
  {
   "cell_type": "code",
   "execution_count": 14,
   "id": "fc6516ce-83ee-4a40-9299-94a0ee18a9d3",
   "metadata": {},
   "outputs": [
    {
     "name": "stdin",
     "output_type": "stream",
     "text": [
      "Enter the upper limit:  101\n"
     ]
    },
    {
     "name": "stdout",
     "output_type": "stream",
     "text": [
      "2 6 12 20 30 42 56 72 90 "
     ]
    }
   ],
   "source": [
    "# Get input from the user\n",
    "n = int(input(\"Enter the upper limit: \"))\n",
    "\n",
    "# Print all pronic numbers between 1 and n\n",
    "for num in range(1, n+1):\n",
    "    # Compute the square root of num and check if it is an integer\n",
    "    root = int(num**0.5)\n",
    "    if root*(root+1) == num:\n",
    "        print(num, end=\" \")"
   ]
  }
 ],
 "metadata": {
  "kernelspec": {
   "display_name": "Python 3 (ipykernel)",
   "language": "python",
   "name": "python3"
  },
  "language_info": {
   "codemirror_mode": {
    "name": "ipython",
    "version": 3
   },
   "file_extension": ".py",
   "mimetype": "text/x-python",
   "name": "python",
   "nbconvert_exporter": "python",
   "pygments_lexer": "ipython3",
   "version": "3.9.13"
  }
 },
 "nbformat": 4,
 "nbformat_minor": 5
}
