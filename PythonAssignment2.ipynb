{
 "cells": [
  {
   "cell_type": "markdown",
   "id": "e4e94253-a37b-4925-92ed-5b9881b7e20a",
   "metadata": {},
   "source": [
    "## 1.Write Python program to turn Kilometres into Miles"
   ]
  },
  {
   "cell_type": "code",
   "execution_count": 2,
   "id": "f51a4dc7-a81b-4601-995a-e9dc69051bf3",
   "metadata": {},
   "outputs": [
    {
     "name": "stdin",
     "output_type": "stream",
     "text": [
      "distance in Kms 10\n"
     ]
    },
    {
     "name": "stdout",
     "output_type": "stream",
     "text": [
      "Distance in miles 6.21371\n"
     ]
    }
   ],
   "source": [
    "def Kilometre(km):\n",
    "    convert_rate = 0.621371\n",
    "    miles = km * convert_rate\n",
    "    print(\"Distance in miles\",miles)\n",
    "    \n",
    "km = float(input(\"distance in Kms\"))\n",
    "Kilometre(km)"
   ]
  },
  {
   "cell_type": "markdown",
   "id": "4ccb1eb2-8f68-436f-b981-70302edc113b",
   "metadata": {},
   "source": [
    "## 2.Write a Python program to convert Celsius to Fahrenheit?"
   ]
  },
  {
   "cell_type": "code",
   "execution_count": 6,
   "id": "594b7531-d4aa-428f-8415-5000b591ddf2",
   "metadata": {},
   "outputs": [
    {
     "name": "stdin",
     "output_type": "stream",
     "text": [
      "Temperature in Celsius:  36\n"
     ]
    },
    {
     "name": "stdout",
     "output_type": "stream",
     "text": [
      "Temperature in Fahrenheit: 96.80\n"
     ]
    }
   ],
   "source": [
    "def celsius_to_fahrenheit(celsius):\n",
    "    fahrenheit = (celsius * 9/5) + 32\n",
    "    return fahrenheit\n",
    "\n",
    "celsius = float(input(\"Temperature in Celsius: \"))\n",
    "fahrenheit = celsius_to_fahrenheit(celsius)\n",
    "print(\"Temperature in Fahrenheit: {:.2f}\".format(fahrenheit))"
   ]
  },
  {
   "cell_type": "markdown",
   "id": "093dd692-7fa5-4a73-a5c4-482782bafa15",
   "metadata": {},
   "source": [
    "## Write a Python program to display calendar?"
   ]
  },
  {
   "cell_type": "code",
   "execution_count": 7,
   "id": "165ca0fd-8434-48b8-a465-a7eb98259131",
   "metadata": {},
   "outputs": [
    {
     "name": "stdin",
     "output_type": "stream",
     "text": [
      "Enter the year:  2018\n",
      "Enter the month:  06\n"
     ]
    },
    {
     "name": "stdout",
     "output_type": "stream",
     "text": [
      "     June 2018\n",
      "Mo Tu We Th Fr Sa Su\n",
      "             1  2  3\n",
      " 4  5  6  7  8  9 10\n",
      "11 12 13 14 15 16 17\n",
      "18 19 20 21 22 23 24\n",
      "25 26 27 28 29 30\n",
      "\n"
     ]
    }
   ],
   "source": [
    "import calendar\n",
    "\n",
    "year = int(input(\"Enter the year: \"))\n",
    "month = int(input(\"Enter the month: \"))\n",
    "\n",
    "print(calendar.month(year, month))"
   ]
  },
  {
   "cell_type": "markdown",
   "id": "a947a5de-a2eb-4567-9305-4ff047ba7c70",
   "metadata": {},
   "source": [
    "## 4. Write a Python program to solve quadratic equation?"
   ]
  },
  {
   "cell_type": "code",
   "execution_count": 8,
   "id": "d427d1fc-5569-4f2e-a29a-18c055d6db1f",
   "metadata": {},
   "outputs": [
    {
     "name": "stdin",
     "output_type": "stream",
     "text": [
      "Enter a:  16\n",
      "Enter b:  8\n",
      "Enter c:  4\n"
     ]
    },
    {
     "name": "stdout",
     "output_type": "stream",
     "text": [
      "The solution are (-0.25-0.4330127018922193j) and (-0.25+0.4330127018922193j)\n"
     ]
    }
   ],
   "source": [
    "# import complex math module  \n",
    "import cmath  \n",
    "a = float(input('Enter a: '))  \n",
    "b = float(input('Enter b: '))  \n",
    "c = float(input('Enter c: '))  \n",
    "  \n",
    "# calculate the discriminant  \n",
    "d = (b**2) - (4*a*c)  \n",
    "  \n",
    "# find two solutions  \n",
    "sol1 = (-b-cmath.sqrt(d))/(2*a)  \n",
    "sol2 = (-b+cmath.sqrt(d))/(2*a)  \n",
    "print('The solution are {0} and {1}'.format(sol1,sol2))"
   ]
  },
  {
   "cell_type": "markdown",
   "id": "c9e3a53d-b434-4e70-aae0-c6baa1c7a9ca",
   "metadata": {},
   "source": [
    "## 5. Write a Python program to swap two variables without temp variable?"
   ]
  },
  {
   "cell_type": "code",
   "execution_count": 9,
   "id": "35c2dbaf-b44f-48d5-9575-5a312fc9da91",
   "metadata": {},
   "outputs": [
    {
     "name": "stdin",
     "output_type": "stream",
     "text": [
      "Please enter value for a:  10\n",
      "Please enter value for q:  20\n"
     ]
    },
    {
     "name": "stdout",
     "output_type": "stream",
     "text": [
      "The Value of P after swapping:  20\n",
      "The Value of Q after swapping:  10\n"
     ]
    }
   ],
   "source": [
    "a = int( input(\"Please enter value for a: \"))  \n",
    "b = int( input(\"Please enter value for q: \"))  \n",
    "   \n",
    "# To Swap the values of two variables  \n",
    "a, b = b, a  \n",
    "   \n",
    "print (\"The Value of P after swapping: \", a)  \n",
    "print (\"The Value of Q after swapping: \", b)  "
   ]
  }
 ],
 "metadata": {
  "kernelspec": {
   "display_name": "Python 3 (ipykernel)",
   "language": "python",
   "name": "python3"
  },
  "language_info": {
   "codemirror_mode": {
    "name": "ipython",
    "version": 3
   },
   "file_extension": ".py",
   "mimetype": "text/x-python",
   "name": "python",
   "nbconvert_exporter": "python",
   "pygments_lexer": "ipython3",
   "version": "3.9.13"
  }
 },
 "nbformat": 4,
 "nbformat_minor": 5
}
