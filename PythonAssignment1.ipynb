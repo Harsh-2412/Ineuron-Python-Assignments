{
 "cells": [
  {
   "cell_type": "markdown",
   "id": "9304a332-b3e8-4bea-a105-b487acdcb8b9",
   "metadata": {},
   "source": [
    "### 1. Write a Python program to print \"Hello Python\""
   ]
  },
  {
   "cell_type": "code",
   "execution_count": 38,
   "id": "89b2a780-1889-4c8b-89a8-c372ab7c793a",
   "metadata": {},
   "outputs": [
    {
     "name": "stdout",
     "output_type": "stream",
     "text": [
      "Hello Python\n"
     ]
    }
   ],
   "source": [
    "print (\"Hello Python\")"
   ]
  },
  {
   "cell_type": "markdown",
   "id": "e9245fae-5ee7-48d0-8e3f-00889f0e16cd",
   "metadata": {},
   "source": [
    "### 2. Write a Python program to do arithmetical operations addition and division"
   ]
  },
  {
   "cell_type": "code",
   "execution_count": 66,
   "id": "c40e2042-3b4f-4e01-9e9d-0f84ae6aab8e",
   "metadata": {},
   "outputs": [
    {
     "name": "stdin",
     "output_type": "stream",
     "text": [
      "the first number: 64\n",
      "the second number: 24\n"
     ]
    },
    {
     "name": "stdout",
     "output_type": "stream",
     "text": [
      "the sum of 64.0 and 24.0 is 88.0\n",
      "the quotient of 64.0 and 24.0 is 2.6666666666666665\n"
     ]
    }
   ],
   "source": [
    "# perform addition\n",
    "def add(a,b):\n",
    "    return a + b\n",
    "\n",
    "# perform division\n",
    "def divide(a,b):\n",
    "    return  a / b\n",
    "\n",
    "#input values \n",
    "a= float(input(\"the first number:\"))\n",
    "b= float(input(\"the second number:\"))\n",
    "\n",
    "# performing operations\n",
    "sum = add(a,b)\n",
    "quotient = divide(a,b)\n",
    "\n",
    "#Output result\n",
    "print(\"the sum of {} and {} is {}\".format(a,b,sum))\n",
    "print (\"the quotient of {} and {} is {}\".format(a,b, quotient))   \n"
   ]
  },
  {
   "cell_type": "markdown",
   "id": "2fea1467-bcb3-4f7b-91ac-900323bf5d2f",
   "metadata": {},
   "source": [
    "### 3. Write a Python program to find the area of a triangle"
   ]
  },
  {
   "cell_type": "code",
   "execution_count": 25,
   "id": "256cb2b1-bfbb-4b2f-b1fb-d0c225c2d186",
   "metadata": {},
   "outputs": [
    {
     "name": "stdin",
     "output_type": "stream",
     "text": [
      "the base of triangle: 24\n",
      "the height of triangle: 12\n"
     ]
    },
    {
     "name": "stdout",
     "output_type": "stream",
     "text": [
      "the area of triangle is 144.0\n"
     ]
    }
   ],
   "source": [
    "def Area_of_triangle(base, height):\n",
    "    return 0.5 * base * height\n",
    "\n",
    "base= float(input(\"the base of triangle:\"))\n",
    "height= float(input(\"the height of triangle:\"))\n",
    "    \n",
    "Area = Area_of_triangle(base, height)\n",
    "    \n",
    "print(\"the area of triangle is\",Area)\n"
   ]
  },
  {
   "cell_type": "markdown",
   "id": "6bd530c8-10cb-479c-bc31-8904c585abab",
   "metadata": {},
   "source": [
    "### 4. Write a Python program to swap two variables"
   ]
  },
  {
   "cell_type": "code",
   "execution_count": 40,
   "id": "42262be0-2da5-495a-a505-e46dc6815b2e",
   "metadata": {
    "tags": []
   },
   "outputs": [
    {
     "name": "stdin",
     "output_type": "stream",
     "text": [
      "the value of a: 19\n",
      "the value of b: 29\n"
     ]
    },
    {
     "name": "stdout",
     "output_type": "stream",
     "text": [
      "the value of a after swapping a: 29.0\n",
      "the value of a after swapping b: 19.0\n"
     ]
    }
   ],
   "source": [
    "a= float(input(\"the value of a:\"))\n",
    "b= float(input(\"the value of b:\"))\n",
    "temp_v1 = a\n",
    "a=b\n",
    "b= temp_v1\n",
    "print(\"the value of a after swapping a:\",a)\n",
    "print(\"the value of a after swapping b:\",b)"
   ]
  },
  {
   "cell_type": "markdown",
   "id": "865f2c0c-89bf-4da6-921f-477b7d647ce6",
   "metadata": {},
   "source": [
    "### 5. Write a Python program to generate a random number?\n"
   ]
  },
  {
   "cell_type": "code",
   "execution_count": 47,
   "id": "53b633b9-8c27-4cad-be7c-47295fe79745",
   "metadata": {},
   "outputs": [
    {
     "name": "stdout",
     "output_type": "stream",
     "text": [
      "0.2702446837024207\n"
     ]
    }
   ],
   "source": [
    "import random\n",
    "\n",
    "n= random.random()\n",
    "\n",
    "print(n)"
   ]
  },
  {
   "cell_type": "code",
   "execution_count": 54,
   "id": "0263992e-8829-4f20-9d0e-717123f8dca4",
   "metadata": {},
   "outputs": [
    {
     "name": "stdout",
     "output_type": "stream",
     "text": [
      "32\n"
     ]
    }
   ],
   "source": [
    "## for A random number within a range\n",
    "\n",
    "import random\n",
    "\n",
    "n= random.randint(0,100)    \n",
    "print(n)   "
   ]
  },
  {
   "cell_type": "code",
   "execution_count": 64,
   "id": "05f0949b-acf8-4e33-877d-2c382a525d4c",
   "metadata": {},
   "outputs": [
    {
     "name": "stdout",
     "output_type": "stream",
     "text": [
      "[23, 62, 62, 49, 37, 61, 52, 47, 41]\n"
     ]
    }
   ],
   "source": [
    "## For a random integer within a list of numbers\n",
    "import random\n",
    "\n",
    "list_ran= []\n",
    "for X in range(1,10):\n",
    "    n = random.randint(20,100)\n",
    "    list_ran.append(n)\n",
    "\n",
    "print (list_ran)"
   ]
  }
 ],
 "metadata": {
  "kernelspec": {
   "display_name": "Python 3 (ipykernel)",
   "language": "python",
   "name": "python3"
  },
  "language_info": {
   "codemirror_mode": {
    "name": "ipython",
    "version": 3
   },
   "file_extension": ".py",
   "mimetype": "text/x-python",
   "name": "python",
   "nbconvert_exporter": "python",
   "pygments_lexer": "ipython3",
   "version": "3.9.13"
  }
 },
 "nbformat": 4,
 "nbformat_minor": 5
}
