{
 "cells": [
  {
   "cell_type": "markdown",
   "id": "4a6b8ef1-225c-429f-8a80-b71575a5e13d",
   "metadata": {},
   "source": [
    "## 1. Define a class with a generator which can iterate the numbers, which are divisible by 7, between a given range 0 and n."
   ]
  },
  {
   "cell_type": "code",
   "execution_count": null,
   "id": "f5c74da8-bfdd-49e3-bdd0-77fc3b4b9725",
   "metadata": {},
   "outputs": [
    {
     "name": "stdin",
     "output_type": "stream",
     "text": [
      "Enter an upper bound for the range:  101\n"
     ]
    },
    {
     "name": "stdout",
     "output_type": "stream",
     "text": [
      "0\n",
      "7\n",
      "14\n",
      "21\n",
      "28\n",
      "35\n",
      "42\n",
      "49\n",
      "56\n",
      "63\n",
      "70\n",
      "77\n",
      "84\n",
      "91\n",
      "98\n"
     ]
    }
   ],
   "source": [
    "class DivisibleBySeven:\n",
    "    def __init__(self, n):\n",
    "        self.n = n\n",
    "\n",
    "    def __iter__(self):\n",
    "        self.current = 0\n",
    "        return self\n",
    "\n",
    "    def __next__(self):\n",
    "        while self.current <= self.n:\n",
    "            result = self.current\n",
    "            self.current += 1\n",
    "            if result % 7 == 0:\n",
    "                return result\n",
    "        raise StopIteration\n",
    "        \n",
    "n = int(input(\"Enter an upper bound for the range: \"))\n",
    "for number in DivisibleBySeven(n):\n",
    "    print(number)\n",
    "        "
   ]
  },
  {
   "cell_type": "markdown",
   "id": "033e4c00-2af6-4d44-96ff-4cecefa6f89d",
   "metadata": {},
   "source": [
    "## 2. Write a program to compute the frequency of the words from the input. The output should output after sorting the key alphanumerically."
   ]
  },
  {
   "cell_type": "code",
   "execution_count": 3,
   "id": "940e9073-a74c-4d09-8334-c9a4d6e17af2",
   "metadata": {},
   "outputs": [
    {
     "name": "stdin",
     "output_type": "stream",
     "text": [
      "Enter one or more sentences, separated by periods:\n",
      " harsh is my name. harsh is my name. what is your name\n"
     ]
    },
    {
     "name": "stdout",
     "output_type": "stream",
     "text": [
      "harsh: 2\n",
      "is: 3\n",
      "my: 2\n",
      "name: 3\n",
      "what: 1\n",
      "your: 1\n"
     ]
    }
   ],
   "source": [
    "from collections import Counter\n",
    "\n",
    "# Get input from user\n",
    "input_string = input(\"Enter one or more sentences, separated by periods:\\n\")\n",
    "\n",
    "# Split input string into sentences\n",
    "sentences = input_string.split(\".\")\n",
    "\n",
    "# Initialize an empty list to store all the words\n",
    "all_words = []\n",
    "\n",
    "# Iterate over all the sentences and split them into words\n",
    "for sentence in sentences:\n",
    "    words = sentence.split()\n",
    "    all_words.extend(words)\n",
    "\n",
    "# Count the frequency of each word\n",
    "word_counts = Counter(all_words)\n",
    "\n",
    "# Sort the word counts alphabetically\n",
    "sorted_word_counts = sorted(word_counts.items())\n",
    "\n",
    "# Print the sorted word counts\n",
    "for word, count in sorted_word_counts:\n",
    "    print(f\"{word}: {count}\")\n"
   ]
  },
  {
   "cell_type": "markdown",
   "id": "13ec131f-a099-41ea-8c7b-efef03b63a5a",
   "metadata": {},
   "source": [
    "## 3. Define a class Person and its two child classes: Male and Female. All classes have a method \"getGender\" which can print \"Male\" for Male class and \"Female\" for Female class.\n"
   ]
  },
  {
   "cell_type": "code",
   "execution_count": 7,
   "id": "3ad41e2c-4948-4ba5-a7d3-a70e611ebe49",
   "metadata": {},
   "outputs": [
    {
     "name": "stdin",
     "output_type": "stream",
     "text": [
      "Enter name of the first person:  Harsh \n",
      "Enter name of the second person:  Shrishti\n"
     ]
    },
    {
     "name": "stdout",
     "output_type": "stream",
     "text": [
      "Harsh  is Male\n",
      "Shrishti is Female\n"
     ]
    }
   ],
   "source": [
    "class Person:\n",
    "    def __init__(self, name):\n",
    "        self.name = name\n",
    "\n",
    "    def getGender(self):\n",
    "        raise NotImplementedError(\"Subclass must implement abstract method\")\n",
    "\n",
    "class Male(Person):\n",
    "    def getGender(self):\n",
    "        return \"Male\"\n",
    "\n",
    "class Female(Person):\n",
    "    def getGender(self):\n",
    "        return \"Female\"\n",
    "\n",
    "name1 = input(\"Enter name of the first person: \")\n",
    "person1 = Male(name1)\n",
    "\n",
    "name2 = input(\"Enter name of the second person: \")\n",
    "person2 = Female(name2)\n",
    "\n",
    "print(person1.name + \" is \" + person1.getGender())\n",
    "print(person2.name + \" is \" + person2.getGender())\n"
   ]
  },
  {
   "cell_type": "markdown",
   "id": "41edb92b-d373-4104-a4f0-701165ef8ba8",
   "metadata": {},
   "source": [
    "## 4. Please write a program to generate all sentences where subject is in [\"I\", \"You\"] and verb is in ['Play', \"Love\"] and the object is in [\"Hockey\",\"Football\"]."
   ]
  },
  {
   "cell_type": "code",
   "execution_count": 11,
   "id": "20aa82f6-e9ad-48d9-adb2-c6fba3398cd1",
   "metadata": {},
   "outputs": [
    {
     "name": "stdin",
     "output_type": "stream",
     "text": [
      "Enter a comma-separated list of subjects:  I , You\n",
      "Enter a comma-separated list of verbs:  play, Love\n",
      "Enter a comma-separated list of objects:  Hockey, football\n"
     ]
    },
    {
     "name": "stdout",
     "output_type": "stream",
     "text": [
      "I  play Hockey.\n",
      "I  play  football.\n",
      "I   Love Hockey.\n",
      "I   Love  football.\n",
      " You play Hockey.\n",
      " You play  football.\n",
      " You  Love Hockey.\n",
      " You  Love  football.\n"
     ]
    }
   ],
   "source": [
    "subjects = input(\"Enter a comma-separated list of subjects: \").split(',')\n",
    "verbs = input(\"Enter a comma-separated list of verbs: \").split(',')\n",
    "objects = input(\"Enter a comma-separated list of objects: \").split(',')\n",
    "\n",
    "for subject in subjects:\n",
    "    for verb in verbs:\n",
    "        for obj in objects:\n",
    "            sentence = f\"{subject} {verb} {obj}.\"\n",
    "            print(sentence)\n",
    "        "
   ]
  },
  {
   "cell_type": "markdown",
   "id": "2d51f0ef-efd9-427b-ab03-9c342c611349",
   "metadata": {},
   "source": [
    "## 5. Please write a program to compress and decompress the string \"hello world!hello world!hello world!hello world!\""
   ]
  },
  {
   "cell_type": "code",
   "execution_count": 12,
   "id": "92ef244a-9192-4410-8190-6783b7ca6a0b",
   "metadata": {},
   "outputs": [
    {
     "name": "stdin",
     "output_type": "stream",
     "text": [
      "Enter a string to compress:  Harsh\n"
     ]
    },
    {
     "name": "stdout",
     "output_type": "stream",
     "text": [
      "Compressed data: b'x\\x9c\\xf3H,*\\xce\\x00\\x00\\x05\\x95\\x01\\xf7'\n",
      "Decompressed data: Harsh\n"
     ]
    }
   ],
   "source": [
    "import zlib\n",
    "\n",
    "original_string = input(\"Enter a string to compress: \")\n",
    "compressed_data = zlib.compress(original_string.encode('utf-8'))\n",
    "\n",
    "print(f\"Compressed data: {compressed_data}\")\n",
    "\n",
    "decompressed_data = zlib.decompress(compressed_data).decode('utf-8')\n",
    "\n",
    "print(f\"Decompressed data: {decompressed_data}\")\n"
   ]
  }
 ],
 "metadata": {
  "kernelspec": {
   "display_name": "Python 3 (ipykernel)",
   "language": "python",
   "name": "python3"
  },
  "language_info": {
   "codemirror_mode": {
    "name": "ipython",
    "version": 3
   },
   "file_extension": ".py",
   "mimetype": "text/x-python",
   "name": "python",
   "nbconvert_exporter": "python",
   "pygments_lexer": "ipython3",
   "version": "3.9.13"
  }
 },
 "nbformat": 4,
 "nbformat_minor": 5
}
