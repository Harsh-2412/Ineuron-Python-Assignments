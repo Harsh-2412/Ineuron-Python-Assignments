{
 "cells": [
  {
   "cell_type": "markdown",
   "id": "1d2d571d-e7a2-405b-9122-74d2d6e3f31f",
   "metadata": {},
   "source": [
    "## 1. Write a Python program to find words which are greater than given length k?"
   ]
  },
  {
   "cell_type": "code",
   "execution_count": 19,
   "id": "a78aff32-c97b-4139-b0ce-44622d0a408d",
   "metadata": {},
   "outputs": [
    {
     "name": "stdin",
     "output_type": "stream",
     "text": [
      "Enter a list of words separated by spaces:  Car Astronaut ball death\n",
      "Enter a length to compare the words to:  4\n"
     ]
    },
    {
     "name": "stdout",
     "output_type": "stream",
     "text": [
      "Words greater than length 4: ['Astronaut', 'death']\n"
     ]
    }
   ],
   "source": [
    "# get list from user input\n",
    "my_list = input(\"Enter a list of words separated by spaces: \").split()\n",
    "\n",
    "# get length from user input\n",
    "k = int(input(\"Enter a length to compare the words to: \"))\n",
    "\n",
    "# create a list of words greater than length k\n",
    "result_list = [word for word in my_list if len(word) > k]\n",
    "\n",
    "print(\"Words greater than length {}: {}\".format(k, result_list))\n"
   ]
  },
  {
   "cell_type": "markdown",
   "id": "e26d058d-6f96-4db2-837b-219909d78683",
   "metadata": {},
   "source": [
    "## 2. Write a Python program for removing i-th character from a string"
   ]
  },
  {
   "cell_type": "code",
   "execution_count": 20,
   "id": "5b65e6eb-f577-4c00-8f8e-2e39697ce03a",
   "metadata": {},
   "outputs": [
    {
     "name": "stdin",
     "output_type": "stream",
     "text": [
      "Enter a string:  hello, My name is Harsh\n"
     ]
    },
    {
     "name": "stdout",
     "output_type": "stream",
     "text": [
      "Original string:  hello, My name is Harsh\n",
      "Split string:  ['hello,', 'My', 'name', 'is', 'Harsh']\n",
      "Joined string:  hello,-My-name-is-Harsh\n"
     ]
    }
   ],
   "source": [
    "# take input from the user\n",
    "my_string = input(\"Enter a string: \")\n",
    "\n",
    "# split the string using space as a separator\n",
    "split_string = my_string.split()\n",
    "\n",
    "# join the split string using a hyphen as a separator\n",
    "joined_string = \"-\".join(split_string)\n",
    "\n",
    "# print the original string, split string and joined string\n",
    "print(\"Original string: \", my_string)\n",
    "print(\"Split string: \", split_string)\n",
    "print(\"Joined string: \", joined_string)\n",
    "\n"
   ]
  },
  {
   "cell_type": "markdown",
   "id": "bc054df0-e6fc-4bd3-9e6f-8a869e4db138",
   "metadata": {},
   "source": [
    "## 3. Write a Python program to split and join a string?"
   ]
  },
  {
   "cell_type": "code",
   "execution_count": 9,
   "id": "0fe799be-f306-4933-a1f4-e851a7664d40",
   "metadata": {},
   "outputs": [
    {
     "name": "stdin",
     "output_type": "stream",
     "text": [
      "Enter a string:  harsh\n"
     ]
    },
    {
     "name": "stdout",
     "output_type": "stream",
     "text": [
      "Original string: harsh\n",
      "Resulting string: harsh\n"
     ]
    }
   ],
   "source": [
    "# get string from user input\n",
    "my_string = input(\"Enter a string: \")\n",
    "\n",
    "# split the string into words\n",
    "my_words = my_string.split()\n",
    "\n",
    "# join the words back into a string\n",
    "result_string = \" \".join(my_words)\n",
    "\n",
    "print(\"Original string:\", my_string)\n",
    "print(\"Resulting string:\", result_string)\n",
    "\n",
    "\n"
   ]
  },
  {
   "cell_type": "markdown",
   "id": "74c84dcd-bee1-4a65-a530-9b4dff337458",
   "metadata": {},
   "source": [
    "## 4. Write a Python to check if a given string is binary string or not?"
   ]
  },
  {
   "cell_type": "code",
   "execution_count": 12,
   "id": "8ab27414-5b43-40d3-ac25-703603405e74",
   "metadata": {},
   "outputs": [
    {
     "name": "stdin",
     "output_type": "stream",
     "text": [
      "Enter a string:  11100101\n"
     ]
    },
    {
     "name": "stdout",
     "output_type": "stream",
     "text": [
      "The given string is a binary string.\n"
     ]
    }
   ],
   "source": [
    "# get string from user input\n",
    "my_string = input(\"Enter a string: \")\n",
    "\n",
    "# define a set of valid binary digits\n",
    "valid_bin_digits = {'0', '1'}\n",
    "\n",
    "# convert string to set of characters and check if all characters are valid binary digits\n",
    "if set(my_string).issubset(valid_bin_digits):\n",
    "    print(\"The given string is a binary string.\")\n",
    "else:\n",
    "    print(\"The given string is not a binary string.\")\n"
   ]
  },
  {
   "cell_type": "markdown",
   "id": "1e63f0d5-8efc-4f7f-9bf6-f06e9c0b6a75",
   "metadata": {},
   "source": [
    "## 5. Write a Python program to find uncommon words from two Strings?"
   ]
  },
  {
   "cell_type": "code",
   "execution_count": 14,
   "id": "ebc3e412-ba9a-4aec-94a5-d96f916612b7",
   "metadata": {},
   "outputs": [
    {
     "name": "stdin",
     "output_type": "stream",
     "text": [
      "Enter the first string:  harsh sharma\n",
      "Enter the second string:  yash sharma\n"
     ]
    },
    {
     "name": "stdout",
     "output_type": "stream",
     "text": [
      "Uncommon words: {'yash', 'harsh'}\n"
     ]
    }
   ],
   "source": [
    "# get two strings from user input\n",
    "string1 = input(\"Enter the first string: \")\n",
    "string2 = input(\"Enter the second string: \")\n",
    "\n",
    "# split the strings into individual words\n",
    "words1 = set(string1.split())\n",
    "words2 = set(string2.split())\n",
    "\n",
    "# find the uncommon words\n",
    "uncommon_words = words1.symmetric_difference(words2)\n",
    "\n",
    "print(\"Uncommon words:\", uncommon_words)\n"
   ]
  },
  {
   "cell_type": "markdown",
   "id": "0e94062c-3c47-45db-93cc-390d25ce100a",
   "metadata": {},
   "source": [
    "## 6. Write a Python to find all duplicate characters in string"
   ]
  },
  {
   "cell_type": "code",
   "execution_count": 16,
   "id": "f43ac8dc-5e58-4b0a-be94-00f5f354f0d4",
   "metadata": {},
   "outputs": [
    {
     "name": "stdin",
     "output_type": "stream",
     "text": [
      "Enter a string:  Antartica\n"
     ]
    },
    {
     "name": "stdout",
     "output_type": "stream",
     "text": [
      "Duplicate characters: {'t', 'a'}\n"
     ]
    }
   ],
   "source": [
    "# get string from user input\n",
    "my_string = input(\"Enter a string: \")\n",
    "\n",
    "# create an empty set to store the duplicate characters\n",
    "duplicates = set()\n",
    "\n",
    "# create an empty set to store the non-duplicate characters\n",
    "non_duplicates = set()\n",
    "\n",
    "# loop over each character in the string\n",
    "for char in my_string:\n",
    "    # check if the character has already been seen before\n",
    "    if char in non_duplicates:\n",
    "        # if so, add it to the set of duplicates\n",
    "        duplicates.add(char)\n",
    "    else:\n",
    "        # if not, add it to the set of non-duplicates\n",
    "        non_duplicates.add(char)\n",
    "\n",
    "print(\"Duplicate characters:\", duplicates)\n"
   ]
  },
  {
   "cell_type": "markdown",
   "id": "7406a2d3-8dd4-469e-8bcd-85cdcd648744",
   "metadata": {},
   "source": [
    "## 7. Write a Python Program to check if a string contains any special character?"
   ]
  },
  {
   "cell_type": "code",
   "execution_count": 17,
   "id": "13a43305-9bed-45fc-9e40-8aade73c04b2",
   "metadata": {},
   "outputs": [
    {
     "name": "stdin",
     "output_type": "stream",
     "text": [
      "Enter any string:  @gmail.com\n"
     ]
    },
    {
     "name": "stdout",
     "output_type": "stream",
     "text": [
      "The string contains special characters.\n"
     ]
    }
   ],
   "source": [
    "# import required package\n",
    "import re\n",
    "\n",
    "# take inputs\n",
    "string = input('Enter any string: ')\n",
    " \n",
    "# special characters\n",
    "special_char = re.compile('[@_!#$%^&*()<>?/\\|}{~:]')\n",
    "\n",
    "# check string contains special characters or not\n",
    "if(special_char.search(string) == None):\n",
    "    print('String does not contain any special characters.')\n",
    "else:\n",
    "    print('The string contains special characters.')\n",
    "\n",
    "\n"
   ]
  }
 ],
 "metadata": {
  "kernelspec": {
   "display_name": "Python 3 (ipykernel)",
   "language": "python",
   "name": "python3"
  },
  "language_info": {
   "codemirror_mode": {
    "name": "ipython",
    "version": 3
   },
   "file_extension": ".py",
   "mimetype": "text/x-python",
   "name": "python",
   "nbconvert_exporter": "python",
   "pygments_lexer": "ipython3",
   "version": "3.9.13"
  }
 },
 "nbformat": 4,
 "nbformat_minor": 5
}
