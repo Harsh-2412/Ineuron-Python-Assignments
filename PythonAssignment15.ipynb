{
 "cells": [
  {
   "cell_type": "markdown",
   "id": "ab177d81-82e2-455f-bb55-5792c7013b9b",
   "metadata": {},
   "source": [
    "## 1. Please write a program using generator to print the numbers which can be divisible by 5 and 7 between 0 and n in comma separated form while n is input by console."
   ]
  },
  {
   "cell_type": "code",
   "execution_count": 1,
   "id": "a578ba4b-f4d4-4a4b-943f-a3b7209c32a3",
   "metadata": {},
   "outputs": [
    {
     "name": "stdin",
     "output_type": "stream",
     "text": [
      "Enter a value for n:  100\n"
     ]
    },
    {
     "name": "stdout",
     "output_type": "stream",
     "text": [
      "Numbers divisible by 5 and 7 up to 100: 0,35,70\n"
     ]
    }
   ],
   "source": [
    "def divisible_by_5_and_7(n):\n",
    "    for num in range(n+1):\n",
    "        if num % 5 == 0 and num % 7 == 0:\n",
    "            yield num\n",
    "\n",
    "n = int(input(\"Enter a value for n: \"))\n",
    "result = ','.join(str(num) for num in divisible_by_5_and_7(n))\n",
    "print(f\"Numbers divisible by 5 and 7 up to {n}: {result}\")\n"
   ]
  },
  {
   "cell_type": "markdown",
   "id": "12b40006-f6ec-4934-ad6e-1edcd793979b",
   "metadata": {},
   "source": [
    "\n",
    "## 2. Please write a program using generator to print the even numbers between 0 and n in comma separated form while n is input by console."
   ]
  },
  {
   "cell_type": "code",
   "execution_count": 2,
   "id": "f6132de7-2cc2-4ba8-86ee-af0789ac8595",
   "metadata": {},
   "outputs": [
    {
     "name": "stdin",
     "output_type": "stream",
     "text": [
      "Enter a value for n:  100\n"
     ]
    },
    {
     "name": "stdout",
     "output_type": "stream",
     "text": [
      "Even numbers up to 100: 0,2,4,6,8,10,12,14,16,18,20,22,24,26,28,30,32,34,36,38,40,42,44,46,48,50,52,54,56,58,60,62,64,66,68,70,72,74,76,78,80,82,84,86,88,90,92,94,96,98,100\n"
     ]
    }
   ],
   "source": [
    "def even_numbers(n):\n",
    "    for num in range(n+1):\n",
    "        if num % 2 == 0:\n",
    "            yield num\n",
    "\n",
    "n = int(input(\"Enter a value for n: \"))\n",
    "result = ','.join(str(num) for num in even_numbers(n))\n",
    "print(f\"Even numbers up to {n}: {result}\")\n"
   ]
  },
  {
   "cell_type": "markdown",
   "id": "f0b16287-4467-4006-9504-98ecc8d0440c",
   "metadata": {},
   "source": [
    "## 3. Please write a program using list comprehension to print the Fibonacci Sequence in comma separated form with a given n input by console."
   ]
  },
  {
   "cell_type": "code",
   "execution_count": 3,
   "id": "40727f2d-bb04-45c2-8e10-bfe7adb98294",
   "metadata": {},
   "outputs": [
    {
     "name": "stdin",
     "output_type": "stream",
     "text": [
      "Enter a value for n:  100\n"
     ]
    },
    {
     "name": "stdout",
     "output_type": "stream",
     "text": [
      "Fibonacci sequence up to 100: 0,1,1,2,3,5,8,13,21,34,55,89\n"
     ]
    }
   ],
   "source": [
    "n = int(input(\"Enter a value for n: \"))\n",
    "\n",
    "fib_sequence = [0, 1]\n",
    "[fib_sequence.append(fib_sequence[-2] + fib_sequence[-1]) for _ in range(n-1) if fib_sequence[-2] + fib_sequence[-1] <= n]\n",
    "\n",
    "result = ','.join(str(num) for num in fib_sequence)\n",
    "print(f\"Fibonacci sequence up to {n}: {result}\")\n"
   ]
  },
  {
   "cell_type": "markdown",
   "id": "f9a7e007-8605-4c74-ab96-681c9c2f0fe9",
   "metadata": {},
   "source": [
    "## 4. Assuming that we have some email addresses in the \"username@companyname.com\" format, please write program to print the user name of a given email address. Both user names and company names are composed of letters only."
   ]
  },
  {
   "cell_type": "code",
   "execution_count": 5,
   "id": "a3123934-cfaa-444c-8b58-8ab882e20d1b",
   "metadata": {},
   "outputs": [
    {
     "name": "stdout",
     "output_type": "stream",
     "text": [
      "john.doe\n"
     ]
    }
   ],
   "source": [
    "def get_username(email):\n",
    "    # Split the email address into username and domain parts\n",
    "    parts = email.split('@')\n",
    "    # Extract the username from the first part\n",
    "    username = parts[0]\n",
    "    return username\n",
    "\n",
    "# Example usage:\n",
    "email = \"john.doe@example.com\"\n",
    "username = get_username(email)\n",
    "print(username)  # prints \"john.doe\""
   ]
  },
  {
   "cell_type": "markdown",
   "id": "48b19800-6509-4aab-af34-a964c8a55183",
   "metadata": {},
   "source": [
    "## 5. Define a class named Shape and its subclass Square. The Square class has an init function which takes a length as argument. Both classes have a area function which can print the area of the shape where Shape's area is 0 by default."
   ]
  },
  {
   "cell_type": "code",
   "execution_count": 6,
   "id": "4c9e8532-fa3c-445a-bf7f-316684780d61",
   "metadata": {},
   "outputs": [
    {
     "name": "stdin",
     "output_type": "stream",
     "text": [
      "Enter the length of a side of the square:  6\n"
     ]
    },
    {
     "name": "stdout",
     "output_type": "stream",
     "text": [
      "36\n"
     ]
    }
   ],
   "source": [
    "class Shape:\n",
    "    def area(self):\n",
    "        return 0\n",
    "\n",
    "class Square(Shape):\n",
    "    def __init__(self):\n",
    "        self.length = int(input(\"Enter the length of a side of the square: \"))\n",
    "\n",
    "    def area(self):\n",
    "        return self.length * self.length\n",
    "\n",
    "square = Square()\n",
    "print(square.area())  # prints the area of the square\n"
   ]
  }
 ],
 "metadata": {
  "kernelspec": {
   "display_name": "Python 3 (ipykernel)",
   "language": "python",
   "name": "python3"
  },
  "language_info": {
   "codemirror_mode": {
    "name": "ipython",
    "version": 3
   },
   "file_extension": ".py",
   "mimetype": "text/x-python",
   "name": "python",
   "nbconvert_exporter": "python",
   "pygments_lexer": "ipython3",
   "version": "3.9.13"
  }
 },
 "nbformat": 4,
 "nbformat_minor": 5
}
