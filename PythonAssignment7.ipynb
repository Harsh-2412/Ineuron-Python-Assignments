{
 "cells": [
  {
   "cell_type": "markdown",
   "id": "ef163a7a-38a8-43c9-900e-7feca32cc1ff",
   "metadata": {},
   "source": [
    "## 1. Write a Python Program to Add Two Matrices"
   ]
  },
  {
   "cell_type": "code",
   "execution_count": 7,
   "id": "85b94a13-b014-4a2f-9013-ddbdaa336873",
   "metadata": {},
   "outputs": [
    {
     "name": "stdin",
     "output_type": "stream",
     "text": [
      "Enter the number of rows:  3\n",
      "Enter the number of columns:  3\n"
     ]
    },
    {
     "name": "stdout",
     "output_type": "stream",
     "text": [
      "Enter the values for matrix1:\n"
     ]
    },
    {
     "name": "stdin",
     "output_type": "stream",
     "text": [
      "Enter the value for [0][0]:  1\n",
      "Enter the value for [0][1]:  2\n",
      "Enter the value for [0][2]:  3\n",
      "Enter the value for [1][0]:  4\n",
      "Enter the value for [1][1]:  5\n",
      "Enter the value for [1][2]:  6\n",
      "Enter the value for [2][0]:  7\n",
      "Enter the value for [2][1]:  8\n",
      "Enter the value for [2][2]:  9\n"
     ]
    },
    {
     "name": "stdout",
     "output_type": "stream",
     "text": [
      "Enter the values for matrix2:\n"
     ]
    },
    {
     "name": "stdin",
     "output_type": "stream",
     "text": [
      "Enter the value for [0][0]:  9\n",
      "Enter the value for [0][1]:  8\n",
      "Enter the value for [0][2]:  7\n",
      "Enter the value for [1][0]:  6\n",
      "Enter the value for [1][1]:  5\n",
      "Enter the value for [1][2]:  4\n",
      "Enter the value for [2][0]:  3\n",
      "Enter the value for [2][1]:  2\n",
      "Enter the value for [2][2]:  1\n"
     ]
    },
    {
     "name": "stdout",
     "output_type": "stream",
     "text": [
      "The sum of the matrices is:\n",
      "[10, 10, 10]\n",
      "[10, 10, 10]\n",
      "[10, 10, 10]\n"
     ]
    }
   ],
   "source": [
    "# get the size of the matrices from the user\n",
    "rows = int(input(\"Enter the number of rows: \"))\n",
    "cols = int(input(\"Enter the number of columns: \"))\n",
    "\n",
    "# create empty matrices\n",
    "matrix1 = []\n",
    "matrix2 = []\n",
    "result = []\n",
    "\n",
    "# get values for matrix1\n",
    "print(\"Enter the values for matrix1:\")\n",
    "for i in range(rows):\n",
    "    row = []\n",
    "    for j in range(cols):\n",
    "        value = int(input(f\"Enter the value for [{i}][{j}]: \"))\n",
    "        row.append(value)\n",
    "    matrix1.append(row)\n",
    "\n",
    "# get values for matrix2\n",
    "print(\"Enter the values for matrix2:\")\n",
    "for i in range(rows):\n",
    "    row = []\n",
    "    for j in range(cols):\n",
    "        value = int(input(f\"Enter the value for [{i}][{j}]: \"))\n",
    "        row.append(value)\n",
    "    matrix2.append(row)\n",
    "\n",
    "# create a result matrix to store the sum\n",
    "for i in range(rows):\n",
    "    row = []\n",
    "    for j in range(cols):\n",
    "        row.append(0)\n",
    "    result.append(row)\n",
    "\n",
    "# iterate through each element in the matrices and add them\n",
    "for i in range(rows):\n",
    "    for j in range(cols):\n",
    "        result[i][j] = matrix1[i][j] + matrix2[i][j]\n",
    "\n",
    "# print the result matrix\n",
    "print(\"The sum of the matrices is:\")\n",
    "for row in result:\n",
    "    print(row)\n"
   ]
  },
  {
   "cell_type": "markdown",
   "id": "5ace2003-ec00-4642-a03a-7f117364518a",
   "metadata": {},
   "source": [
    "## 2. Write a Python Program to Multiply Two Matrices"
   ]
  },
  {
   "cell_type": "code",
   "execution_count": 1,
   "id": "1ce58dd9-fad0-48c6-a643-d47a588444d1",
   "metadata": {},
   "outputs": [
    {
     "name": "stdin",
     "output_type": "stream",
     "text": [
      "Enter number of rows in matrix 1:  3\n",
      "Enter number of columns in matrix 1:  3\n",
      "Enter number of rows in matrix 2:  3\n",
      "Enter number of columns in matrix 2:  3\n"
     ]
    },
    {
     "name": "stdout",
     "output_type": "stream",
     "text": [
      "Enter elements of matrix 1:\n"
     ]
    },
    {
     "name": "stdin",
     "output_type": "stream",
     "text": [
      " 1\n",
      " 2\n",
      " 3\n",
      " 4\n",
      " 5\n",
      " 6\n",
      " 7\n",
      " 8\n",
      " 9\n"
     ]
    },
    {
     "name": "stdout",
     "output_type": "stream",
     "text": [
      "Enter elements of matrix 2:\n"
     ]
    },
    {
     "name": "stdin",
     "output_type": "stream",
     "text": [
      " 9\n",
      " 8\n",
      " 7\n",
      " 6\n",
      " 5\n",
      " 4\n",
      " 3\n",
      " 2\n",
      " 1\n"
     ]
    },
    {
     "name": "stdout",
     "output_type": "stream",
     "text": [
      "The result of multiplication is:\n",
      "[30, 24, 18]\n",
      "[84, 69, 54]\n",
      "[138, 114, 90]\n"
     ]
    }
   ],
   "source": [
    "# function to multiply two matrices\n",
    "def multiply_matrices(m1, m2):\n",
    "    # dimensions of matrix 1\n",
    "    r1 = len(m1)\n",
    "    c1 = len(m1[0])\n",
    "\n",
    "    # dimensions of matrix 2\n",
    "    r2 = len(m2)\n",
    "    c2 = len(m2[0])\n",
    "\n",
    "    # check if matrices can be multiplied\n",
    "    if c1 != r2:\n",
    "        print(\"Error: Matrices cannot be multiplied!\")\n",
    "        return None\n",
    "\n",
    "    # create a result matrix with dimensions r1 x c2\n",
    "    result = [[0 for j in range(c2)] for i in range(r1)]\n",
    "\n",
    "    # multiply the matrices\n",
    "    for i in range(r1):\n",
    "        for j in range(c2):\n",
    "            for k in range(r2):\n",
    "                result[i][j] += m1[i][k] * m2[k][j]\n",
    "\n",
    "    return result\n",
    "\n",
    "# get dimensions of matrix 1\n",
    "r1 = int(input(\"Enter number of rows in matrix 1: \"))\n",
    "c1 = int(input(\"Enter number of columns in matrix 1: \"))\n",
    "\n",
    "# get dimensions of matrix 2\n",
    "r2 = int(input(\"Enter number of rows in matrix 2: \"))\n",
    "c2 = int(input(\"Enter number of columns in matrix 2: \"))\n",
    "\n",
    "# create matrix 1\n",
    "print(\"Enter elements of matrix 1:\")\n",
    "matrix1 = [[int(input()) for j in range(c1)] for i in range(r1)]\n",
    "\n",
    "# create matrix 2\n",
    "print(\"Enter elements of matrix 2:\")\n",
    "matrix2 = [[int(input()) for j in range(c2)] for i in range(r2)]\n",
    "\n",
    "# multiply the matrices\n",
    "result = multiply_matrices(matrix1, matrix2)\n",
    "\n",
    "# print the result\n",
    "if result is not None:\n",
    "    print(\"The result of multiplication is:\")\n",
    "    for row in result:\n",
    "        print(row)\n"
   ]
  },
  {
   "cell_type": "markdown",
   "id": "7386ecf9-152b-4395-986d-a01bd16fd955",
   "metadata": {},
   "source": [
    "## 3. Write a Python Program to Transpose a Matrix"
   ]
  },
  {
   "cell_type": "code",
   "execution_count": 2,
   "id": "7f3dfe9c-4236-419d-ac14-91f9e8da6e77",
   "metadata": {},
   "outputs": [
    {
     "name": "stdin",
     "output_type": "stream",
     "text": [
      "Enter number of rows:  3\n",
      "Enter number of columns:  3\n"
     ]
    },
    {
     "name": "stdout",
     "output_type": "stream",
     "text": [
      "Enter elements of matrix:\n"
     ]
    },
    {
     "name": "stdin",
     "output_type": "stream",
     "text": [
      " 1\n",
      " 2\n",
      " 3\n",
      " 4\n",
      " 5\n",
      " 6\n",
      " 7\n",
      " 8\n",
      " 9\n"
     ]
    },
    {
     "name": "stdout",
     "output_type": "stream",
     "text": [
      "The result of transposition is:\n",
      "[1, 4, 7]\n",
      "[2, 5, 8]\n",
      "[3, 6, 9]\n"
     ]
    }
   ],
   "source": [
    "# function to transpose a matrix\n",
    "def transpose_matrix(matrix):\n",
    "    # get dimensions of matrix\n",
    "    rows = len(matrix)\n",
    "    cols = len(matrix[0])\n",
    "\n",
    "    # create a result matrix with dimensions cols x rows\n",
    "    result = [[0 for j in range(rows)] for i in range(cols)]\n",
    "\n",
    "    # transpose the matrix\n",
    "    for i in range(rows):\n",
    "        for j in range(cols):\n",
    "            result[j][i] = matrix[i][j]\n",
    "\n",
    "    return result\n",
    "\n",
    "# get dimensions of matrix\n",
    "rows = int(input(\"Enter number of rows: \"))\n",
    "cols = int(input(\"Enter number of columns: \"))\n",
    "\n",
    "# create matrix\n",
    "print(\"Enter elements of matrix:\")\n",
    "matrix = [[int(input()) for j in range(cols)] for i in range(rows)]\n",
    "\n",
    "# transpose the matrix\n",
    "result = transpose_matrix(matrix)\n",
    "\n",
    "# print the result\n",
    "print(\"The result of transposition is:\")\n",
    "for row in result:\n",
    "    print(row)\n"
   ]
  },
  {
   "cell_type": "markdown",
   "id": "b2c1a7da-e539-4571-9de2-86ac5a104b0b",
   "metadata": {},
   "source": [
    "## 4. Write a Python Program to Sort Words in Alphabetic Order"
   ]
  },
  {
   "cell_type": "code",
   "execution_count": 8,
   "id": "e5ff7827-e778-436f-b10b-d02ef092e2a7",
   "metadata": {},
   "outputs": [
    {
     "name": "stdin",
     "output_type": "stream",
     "text": [
      "Enter a string (enter 'done' to stop):  hehe\n",
      "Enter a string (enter 'done' to stop):  huihui\n",
      "Enter a string (enter 'done' to stop):  done\n"
     ]
    },
    {
     "name": "stdout",
     "output_type": "stream",
     "text": [
      "The sorted words in the input string ' hehe ' are:\n",
      "hehe\n",
      "The sorted words in the input string ' huihui ' are:\n",
      "huihui\n"
     ]
    }
   ],
   "source": [
    "# initialize an empty list to store the input strings\n",
    "input_str_list = []\n",
    "\n",
    "# loop to get input strings from user\n",
    "while True:\n",
    "    input_str = input(\"Enter a string (enter 'done' to stop): \")\n",
    "    if input_str == 'done':\n",
    "        break\n",
    "    input_str_list.append(input_str)\n",
    "\n",
    "# loop to sort the words in all input strings and print the sorted words\n",
    "for input_str in input_str_list:\n",
    "    # split the input string into words\n",
    "    words = input_str.split()\n",
    "\n",
    "    # sort the words in alphabetical order\n",
    "    sorted_words = sorted(words)\n",
    "\n",
    "    # print the sorted words\n",
    "    print(\"The sorted words in the input string '\", input_str, \"' are:\")\n",
    "    for word in sorted_words:\n",
    "        print(word)\n"
   ]
  },
  {
   "cell_type": "markdown",
   "id": "e4cd612b-9b52-4f05-b8ee-317fea51010a",
   "metadata": {},
   "source": [
    "## 5. Write a Python Program to Remove Punctuation From a String"
   ]
  },
  {
   "cell_type": "code",
   "execution_count": 9,
   "id": "06a32d3d-8b78-4ecd-86bd-25c07be01dc2",
   "metadata": {},
   "outputs": [
    {
     "name": "stdin",
     "output_type": "stream",
     "text": [
      "Enter a string:  hello!!!\n"
     ]
    },
    {
     "name": "stdout",
     "output_type": "stream",
     "text": [
      "The string with punctuation removed is: hello\n"
     ]
    }
   ],
   "source": [
    "import string\n",
    "\n",
    "# get input string from user\n",
    "input_str = input(\"Enter a string: \")\n",
    "\n",
    "# define punctuation characters\n",
    "punctuations = string.punctuation\n",
    "\n",
    "# remove punctuation characters from input string\n",
    "no_punct_str = \"\"\n",
    "for char in input_str:\n",
    "    if char not in punctuations:\n",
    "        no_punct_str += char\n",
    "\n",
    "# print the string with punctuation removed\n",
    "print(\"The string with punctuation removed is:\", no_punct_str)\n"
   ]
  }
 ],
 "metadata": {
  "kernelspec": {
   "display_name": "Python 3 (ipykernel)",
   "language": "python",
   "name": "python3"
  },
  "language_info": {
   "codemirror_mode": {
    "name": "ipython",
    "version": 3
   },
   "file_extension": ".py",
   "mimetype": "text/x-python",
   "name": "python",
   "nbconvert_exporter": "python",
   "pygments_lexer": "ipython3",
   "version": "3.9.13"
  }
 },
 "nbformat": 4,
 "nbformat_minor": 5
}
