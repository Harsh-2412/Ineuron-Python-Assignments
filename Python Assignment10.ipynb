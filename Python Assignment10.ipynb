{
 "cells": [
  {
   "cell_type": "markdown",
   "id": "bdfeea82-1967-4434-ae30-a38343430742",
   "metadata": {},
   "source": [
    "## 1. Write a Python program to find sum of elements in list"
   ]
  },
  {
   "cell_type": "code",
   "execution_count": 1,
   "id": "06fe80f7-aca8-4272-a1a6-ce8e26c2d4a7",
   "metadata": {},
   "outputs": [
    {
     "name": "stdin",
     "output_type": "stream",
     "text": [
      "Enter the number of elements in the list:  5\n",
      "Enter element 1:  12\n",
      "Enter element 2:  4\n",
      "Enter element 3:  5\n",
      "Enter element 4:  11\n",
      "Enter element 5:  6\n"
     ]
    },
    {
     "name": "stdout",
     "output_type": "stream",
     "text": [
      "The sum of elements in the list is: 38\n"
     ]
    }
   ],
   "source": [
    "my_list = []\n",
    "n = int(input(\"Enter the number of elements in the list: \"))\n",
    "for i in range(n):\n",
    "    element = int(input(\"Enter element \" + str(i+1) + \": \"))\n",
    "    my_list.append(element)\n",
    "sum = 0\n",
    "for i in my_list:\n",
    "    sum += i\n",
    "print(\"The sum of elements in the list is:\", sum)\n"
   ]
  },
  {
   "cell_type": "markdown",
   "id": "ae6390f8-ebe7-43fb-9213-3a8b5e084abb",
   "metadata": {},
   "source": [
    "# 2. Write a Python program to  Multiply all numbers in the list?"
   ]
  },
  {
   "cell_type": "code",
   "execution_count": 2,
   "id": "f969711f-a803-4eff-8a1b-2996861b02e0",
   "metadata": {},
   "outputs": [
    {
     "name": "stdin",
     "output_type": "stream",
     "text": [
      "Enter the number of elements in the list:  3\n",
      "Enter element 1:  12\n",
      "Enter element 2:  23\n",
      "Enter element 3:  14\n"
     ]
    },
    {
     "name": "stdout",
     "output_type": "stream",
     "text": [
      "The product of elements in the list is: 3864\n"
     ]
    }
   ],
   "source": [
    "my_list = []\n",
    "n = int(input(\"Enter the number of elements in the list: \"))\n",
    "for i in range(n):\n",
    "    element = int(input(\"Enter element \" + str(i+1) + \": \"))\n",
    "    my_list.append(element)\n",
    "product = 1\n",
    "for i in my_list:\n",
    "    product *= i\n",
    "print(\"The product of elements in the list is:\", product)\n"
   ]
  },
  {
   "cell_type": "markdown",
   "id": "ac3b0a8e-d969-47e3-aa33-881aeab3e9d5",
   "metadata": {},
   "source": [
    "## 3. Write a Python program to find smallest number in a list?"
   ]
  },
  {
   "cell_type": "code",
   "execution_count": 4,
   "id": "e1f6f3c7-1f87-4a5f-b9c0-724f97f831a5",
   "metadata": {},
   "outputs": [
    {
     "name": "stdin",
     "output_type": "stream",
     "text": [
      "Enter a list of numbers separated by spaces:  2 4 5 6 8 9\n"
     ]
    },
    {
     "name": "stdout",
     "output_type": "stream",
     "text": [
      "The smallest number in the list is: 2\n"
     ]
    }
   ],
   "source": [
    "def find_smallest_number(numbers):\n",
    "    smallest = numbers[0]\n",
    "    for number in numbers:\n",
    "        if number < smallest:\n",
    "            smallest = number\n",
    "    return smallest\n",
    "\n",
    "# get list of numbers from user input\n",
    "numbers = input(\"Enter a list of numbers separated by spaces: \").split()\n",
    "numbers = [int(number) for number in numbers]\n",
    "\n",
    "# call function and print result\n",
    "smallest_number = find_smallest_number(numbers)\n",
    "print(\"The smallest number in the list is:\", smallest_number)\n"
   ]
  },
  {
   "cell_type": "markdown",
   "id": "f7a73acb-79a7-4602-9f6c-fab3df496993",
   "metadata": {},
   "source": [
    "## . Write a Python program to find largest number in a list?"
   ]
  },
  {
   "cell_type": "code",
   "execution_count": 5,
   "id": "e5935f09-3355-4026-81ee-7b9f95875cd4",
   "metadata": {},
   "outputs": [
    {
     "name": "stdin",
     "output_type": "stream",
     "text": [
      "Enter a list of numbers separated by spaces:  2 4 6 8 9\n"
     ]
    },
    {
     "name": "stdout",
     "output_type": "stream",
     "text": [
      "The largest number in the list is: 9\n"
     ]
    }
   ],
   "source": [
    "def find_largest_number(numbers):\n",
    "    largest = numbers[0]\n",
    "    for number in numbers:\n",
    "        if number > largest:\n",
    "            largest = number\n",
    "    return largest\n",
    "\n",
    "# get list of numbers from user input\n",
    "numbers = input(\"Enter a list of numbers separated by spaces: \").split()\n",
    "numbers = [int(number) for number in numbers]\n",
    "\n",
    "# call function and print result\n",
    "largest_number = find_largest_number(numbers)\n",
    "print(\"The largest number in the list is:\", largest_number)\n"
   ]
  },
  {
   "cell_type": "markdown",
   "id": "8b5f12ad-3db8-4318-8007-c325244a1497",
   "metadata": {},
   "source": [
    "## 5. Write a Python program to find second largest number in a list?"
   ]
  },
  {
   "cell_type": "code",
   "execution_count": 6,
   "id": "ff6f668b-5f64-4c1c-a3b7-1806e32f5d93",
   "metadata": {},
   "outputs": [
    {
     "name": "stdin",
     "output_type": "stream",
     "text": [
      "Enter a list of numbers separated by spaces:  2 4 6 7 99\n"
     ]
    },
    {
     "name": "stdout",
     "output_type": "stream",
     "text": [
      "The second largest number in the list is: 7\n"
     ]
    }
   ],
   "source": [
    "def find_second_largest_number(numbers):\n",
    "    largest = numbers[0]\n",
    "    second_largest = None\n",
    "    for number in numbers[1:]:\n",
    "        if number > largest:\n",
    "            second_largest = largest\n",
    "            largest = number\n",
    "        elif second_largest is None or number > second_largest:\n",
    "            second_largest = number\n",
    "    return second_largest\n",
    "\n",
    "# get list of numbers from user input\n",
    "numbers = input(\"Enter a list of numbers separated by spaces: \").split()\n",
    "numbers = [int(number) for number in numbers]\n",
    "\n",
    "# call function and print result\n",
    "second_largest_number = find_second_largest_number(numbers)\n",
    "print(\"The second largest number in the list is:\", second_largest_number)\n"
   ]
  },
  {
   "cell_type": "markdown",
   "id": "a2a5566d-a76a-4d3a-9231-17161308b4ab",
   "metadata": {},
   "source": [
    "## 6. Write a Python program to find N largest elements from a list?"
   ]
  },
  {
   "cell_type": "code",
   "execution_count": 7,
   "id": "0bfec580-1b61-4d66-9009-10f488badb08",
   "metadata": {},
   "outputs": [
    {
     "name": "stdin",
     "output_type": "stream",
     "text": [
      "Enter a list of numbers separated by spaces:  2 4 66 77 88 \n",
      "Enter the number of largest elements to find:  2\n"
     ]
    },
    {
     "name": "stdout",
     "output_type": "stream",
     "text": [
      "The 2 largest numbers in the list are: [88, 77]\n"
     ]
    }
   ],
   "source": [
    "def find_n_largest_numbers(numbers, n):\n",
    "    largest_numbers = []\n",
    "    for i in range(n):\n",
    "        largest = numbers[0]\n",
    "        for number in numbers[1:]:\n",
    "            if number > largest:\n",
    "                largest = number\n",
    "        largest_numbers.append(largest)\n",
    "        numbers.remove(largest)\n",
    "    return largest_numbers\n",
    "\n",
    "# get list of numbers from user input\n",
    "numbers = input(\"Enter a list of numbers separated by spaces: \").split()\n",
    "numbers = [int(number) for number in numbers]\n",
    "\n",
    "# get number of largest elements from user input\n",
    "n = int(input(\"Enter the number of largest elements to find: \"))\n",
    "\n",
    "# call function and print result\n",
    "largest_numbers = find_n_largest_numbers(numbers, n)\n",
    "print(f\"The {n} largest numbers in the list are:\", largest_numbers)\n"
   ]
  },
  {
   "cell_type": "markdown",
   "id": "2915b97f-0de2-43d5-9c96-0f2cc21b0829",
   "metadata": {},
   "source": [
    "## 7. Write a Python program to print even numbers in a list?"
   ]
  },
  {
   "cell_type": "code",
   "execution_count": 8,
   "id": "f4a83e80-f9cf-47cb-a349-9b98287d646d",
   "metadata": {},
   "outputs": [
    {
     "name": "stdin",
     "output_type": "stream",
     "text": [
      "Enter a list of numbers separated by spaces:  3 5 4 22 67 34 35\n"
     ]
    },
    {
     "name": "stdout",
     "output_type": "stream",
     "text": [
      "Even numbers in the list: [4, 22, 34]\n"
     ]
    }
   ],
   "source": [
    "# get list of numbers from user input\n",
    "numbers = input(\"Enter a list of numbers separated by spaces: \").split()\n",
    "numbers = [int(number) for number in numbers]\n",
    "\n",
    "# print even numbers\n",
    "even_numbers = [number for number in numbers if number % 2 == 0]\n",
    "print(\"Even numbers in the list:\", even_numbers)\n"
   ]
  },
  {
   "cell_type": "markdown",
   "id": "96809e00-fec4-4a75-8f5a-7bfcf8de3922",
   "metadata": {},
   "source": [
    "## 8. Write a Python program to print odd numbers in a List?"
   ]
  },
  {
   "cell_type": "code",
   "execution_count": 9,
   "id": "912f2aaf-6757-48dd-9738-ff68e88229fa",
   "metadata": {},
   "outputs": [
    {
     "name": "stdin",
     "output_type": "stream",
     "text": [
      "Enter a list of numbers separated by spaces:  22 33 44 55 66 77 88 99 \n"
     ]
    },
    {
     "name": "stdout",
     "output_type": "stream",
     "text": [
      "Odd numbers in the list: [33, 55, 77, 99]\n"
     ]
    }
   ],
   "source": [
    "# get list of numbers from user input\n",
    "numbers = input(\"Enter a list of numbers separated by spaces: \").split()\n",
    "numbers = [int(number) for number in numbers]\n",
    "\n",
    "# print odd numbers\n",
    "odd_numbers = [number for number in numbers if number % 2 != 0]\n",
    "print(\"Odd numbers in the list:\", odd_numbers)\n",
    "\n"
   ]
  },
  {
   "cell_type": "markdown",
   "id": "3f9d89f5-6fc7-4465-b70e-e0fe49615538",
   "metadata": {},
   "source": [
    "## 9. Write a Python program to Remove empty List from List"
   ]
  },
  {
   "cell_type": "code",
   "execution_count": 12,
   "id": "1b8ff369-c923-4914-8d68-8afa0d36e7a6",
   "metadata": {},
   "outputs": [
    {
     "name": "stdin",
     "output_type": "stream",
     "text": [
      "Enter a list of sublists separated by commas:  1,2,,3,4\n"
     ]
    },
    {
     "name": "stdout",
     "output_type": "stream",
     "text": [
      "List after removing empty lists: [['1'], ['2'], ['3'], ['4']]\n"
     ]
    }
   ],
   "source": [
    "# get list from user input\n",
    "my_list = input(\"Enter a list of sublists separated by commas: \")\n",
    "my_list = [sublist.split() for sublist in my_list.split(',')]\n",
    "\n",
    "# remove empty lists from the list\n",
    "my_list = [sublist for sublist in my_list if sublist]\n",
    "\n",
    "print(\"List after removing empty lists:\", my_list)\n"
   ]
  },
  {
   "cell_type": "markdown",
   "id": "a9afa421-f032-4c24-9c20-26ed6e7405e2",
   "metadata": {},
   "source": [
    "## 10. Write a Python program to Cloning or Copying a list"
   ]
  },
  {
   "cell_type": "code",
   "execution_count": 13,
   "id": "5f766c2a-353d-4314-ab7b-4e08b1c3eacf",
   "metadata": {},
   "outputs": [
    {
     "name": "stdin",
     "output_type": "stream",
     "text": [
      "Enter a list of elements separated by spaces:  1,4,6,9,7\n"
     ]
    },
    {
     "name": "stdout",
     "output_type": "stream",
     "text": [
      "Original list: ['1,4,6,9,7']\n",
      "Copied list: ['1,4,6,9,7']\n"
     ]
    }
   ],
   "source": [
    "# get list from user input\n",
    "my_list = input(\"Enter a list of elements separated by spaces: \").split()\n",
    "\n",
    "# create a copy of the list\n",
    "my_list_copy = my_list.copy()\n",
    "\n",
    "print(\"Original list:\", my_list)\n",
    "print(\"Copied list:\", my_list_copy)\n"
   ]
  },
  {
   "cell_type": "markdown",
   "id": "dcce63ff-bbbf-4c33-a158-29c9b40102bb",
   "metadata": {},
   "source": [
    "## 11. Write a Python program to Count occurrences of an element in a list?"
   ]
  },
  {
   "cell_type": "code",
   "execution_count": 18,
   "id": "eb3c3c86-5f8f-43e0-8b14-25e24603e140",
   "metadata": {},
   "outputs": [
    {
     "name": "stdin",
     "output_type": "stream",
     "text": [
      "Enter a list of elements separated by spaces:  1 2 3 3 3 3 4 5\n",
      "Enter an element to count in the list:  3\n"
     ]
    },
    {
     "name": "stdout",
     "output_type": "stream",
     "text": [
      "The element '3' occurs 4 times in the list.\n"
     ]
    }
   ],
   "source": [
    "# get list from user input\n",
    "my_list = input(\"Enter a list of elements separated by spaces: \").split()\n",
    "\n",
    "# get element to count from user input\n",
    "element = input(\"Enter an element to count in the list: \")\n",
    "\n",
    "# count occurrences of the element in the list\n",
    "count = my_list.count(element)\n",
    "\n",
    "print(\"The element '{}' occurs {} times in the list.\".format(element, count))\n",
    "\n"
   ]
  }
 ],
 "metadata": {
  "kernelspec": {
   "display_name": "Python 3 (ipykernel)",
   "language": "python",
   "name": "python3"
  },
  "language_info": {
   "codemirror_mode": {
    "name": "ipython",
    "version": 3
   },
   "file_extension": ".py",
   "mimetype": "text/x-python",
   "name": "python",
   "nbconvert_exporter": "python",
   "pygments_lexer": "ipython3",
   "version": "3.9.13"
  }
 },
 "nbformat": 4,
 "nbformat_minor": 5
}
