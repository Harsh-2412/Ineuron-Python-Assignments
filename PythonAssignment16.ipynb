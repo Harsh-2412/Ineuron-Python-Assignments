{
 "cells": [
  {
   "cell_type": "markdown",
   "id": "46d800bb-7e9b-4f49-a264-4de37e3b29d3",
   "metadata": {},
   "source": [
    "## 1. Write a function that stutters a word as if someone is struggling to read it. The first two letters are repeated twice with an ellipsis ... and space after each, and then the word is pronounced with a question mark ?. Examples stutter('incredible') ➞ 'in... in... incredible?' stutter('enthusiastic') ➞ 'en... en... enthusiastic?' stutter('outstanding') ➞ 'ou... ou... outstanding?'\n",
    "### Hint :- Assume all input is in lower case and at least two characters long."
   ]
  },
  {
   "cell_type": "code",
   "execution_count": 5,
   "id": "dc0ccb32-a29d-450c-b3c8-26c86126a627",
   "metadata": {},
   "outputs": [
    {
     "name": "stdin",
     "output_type": "stream",
     "text": [
      "Enter a word:  HARSH\n"
     ]
    },
    {
     "data": {
      "text/plain": [
       "'HA... HA... HARSH?'"
      ]
     },
     "execution_count": 5,
     "metadata": {},
     "output_type": "execute_result"
    }
   ],
   "source": [
    "def stutter():\n",
    "    word = input(\"Enter a word: \")\n",
    "    return word[:2] + \"... \" + word[:2] + \"... \" + word + \"?\"\n",
    "stutter()\n"
   ]
  },
  {
   "cell_type": "markdown",
   "id": "d1947e53-5e4b-41ec-a664-103282a0864f",
   "metadata": {
    "tags": []
   },
   "source": [
    "## 2. Create a function that takes an angle in radians and returns the corresponding angle in degrees rounded to one decimal place."
   ]
  },
  {
   "cell_type": "code",
   "execution_count": 11,
   "id": "39112060-bee9-4040-973f-bdc190f4bc60",
   "metadata": {},
   "outputs": [
    {
     "name": "stdin",
     "output_type": "stream",
     "text": [
      "Enter an angle in radians:  12\n"
     ]
    },
    {
     "data": {
      "text/plain": [
       "687.5"
      ]
     },
     "execution_count": 11,
     "metadata": {},
     "output_type": "execute_result"
    }
   ],
   "source": [
    "import math\n",
    "\n",
    "def radians_to_degrees():\n",
    "    radians = float(input(\"Enter an angle in radians: \"))\n",
    "    degrees = math.degrees(radians)\n",
    "    return round(degrees, 1)\n",
    "\n",
    "radians_to_degrees()"
   ]
  },
  {
   "cell_type": "markdown",
   "id": "702deb3b-da22-44b3-94df-68cc2e51b147",
   "metadata": {},
   "source": [
    "## 3. In this challenge, establish if a given integer num is a Curzon number. If 1 plus 2 elevated to num is exactly divisible by 1 plus 2 multiplied by num, then num is a Curzon number. Given a non-negative integer num, implement a function that returns True if num is a Curzon number, or False otherwise."
   ]
  },
  {
   "cell_type": "code",
   "execution_count": 14,
   "id": "a2eccb45-029f-4507-966f-a7048a837568",
   "metadata": {},
   "outputs": [
    {
     "name": "stdin",
     "output_type": "stream",
     "text": [
      "Enter a non-negative integer:  30\n"
     ]
    },
    {
     "data": {
      "text/plain": [
       "True"
      ]
     },
     "execution_count": 14,
     "metadata": {},
     "output_type": "execute_result"
    }
   ],
   "source": [
    "def is_curzon():\n",
    "    num = int(input(\"Enter a non-negative integer: \"))\n",
    "    numerator = 2**num + 1\n",
    "    denominator = 2*num + 1\n",
    "    if numerator % denominator == 0:\n",
    "        return True\n",
    "    else:\n",
    "        return False\n",
    "\n",
    "is_curzon()"
   ]
  },
  {
   "cell_type": "markdown",
   "id": "6658a420-d4a6-492e-8b50-79ab281b45a7",
   "metadata": {},
   "source": [
    "## 4. Given the side length x find the area of a hexagon."
   ]
  },
  {
   "cell_type": "code",
   "execution_count": 17,
   "id": "f3c15754-11ef-441f-a950-031d72c76ece",
   "metadata": {},
   "outputs": [
    {
     "name": "stdin",
     "output_type": "stream",
     "text": [
      "Enter the side length of the hexagon:  5\n"
     ]
    },
    {
     "data": {
      "text/plain": [
       "64.9519052838329"
      ]
     },
     "execution_count": 17,
     "metadata": {},
     "output_type": "execute_result"
    }
   ],
   "source": [
    "import math\n",
    "\n",
    "def area_of_hexagon():\n",
    "    x = float(input(\"Enter the side length of the hexagon: \"))\n",
    "    area = (3 * math.sqrt(3) * x**2) / 2\n",
    "    return area\n",
    "\n",
    "area_of_hexagon()"
   ]
  },
  {
   "cell_type": "markdown",
   "id": "bcd5c3ea-273b-48e8-b328-8246d83710bb",
   "metadata": {},
   "source": [
    "## 5. Create a function that returns a base-2 (binary) representation of a base-10 (decimal) string number. To convert is simple: ((2) means base-2 and (10) means base-10) 010101001(2) = 1 + 8 + 32 + 128."
   ]
  },
  {
   "cell_type": "code",
   "execution_count": 20,
   "id": "a5f390ee-f476-4a7a-ae82-2307725e40db",
   "metadata": {},
   "outputs": [
    {
     "name": "stdin",
     "output_type": "stream",
     "text": [
      "Enter a decimal number:  24\n"
     ]
    },
    {
     "name": "stdout",
     "output_type": "stream",
     "text": [
      "The binary representation is: 11000\n"
     ]
    }
   ],
   "source": [
    "def decimal_to_binary():\n",
    "    decimal_num = int(input(\"Enter a decimal number: \"))\n",
    "    binary_num = bin(decimal_num)[2:]\n",
    "    return binary_num\n",
    "\n",
    "binary_num = decimal_to_binary()\n",
    "print(\"The binary representation is:\", binary_num)\n"
   ]
  }
 ],
 "metadata": {
  "kernelspec": {
   "display_name": "Python 3 (ipykernel)",
   "language": "python",
   "name": "python3"
  },
  "language_info": {
   "codemirror_mode": {
    "name": "ipython",
    "version": 3
   },
   "file_extension": ".py",
   "mimetype": "text/x-python",
   "name": "python",
   "nbconvert_exporter": "python",
   "pygments_lexer": "ipython3",
   "version": "3.9.13"
  }
 },
 "nbformat": 4,
 "nbformat_minor": 5
}
